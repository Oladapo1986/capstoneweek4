{
 "cells": [
  {
   "cell_type": "markdown",
   "metadata": {
    "collapsed": true
   },
   "source": [
    "# Introduction\n",
    "Locating a profitable coffee shop in Lagos taking a clue from New-York City.\n",
    "Lagos is one of the largest cities in Africa and the econmic hub of Nigeria. With a population of more than 20 million people,\n",
    "Lagos is seen to be an important location when starting a business. One of the reason is the availability of people who are \n",
    "more than ready to buy the products you offer them. But there exist some challenges which might inhibit the succesful esblishment of a business enterprise, in particular a food restaurant. A problem is the issue of traffic. It is rated one of the worse place for motorists and then bad road network which has hindered smooth running of businesses and even untimely clsure of businesses. While some businesses trive, it is partinent to understand that they trive asa result of the prior research conducted to make room for the success of the business. \n",
    "I shall be using new-york city to use as a learning point due to its similarity in terms of traffic and yet there are a lot of coffee shops that are successful.\n"
   ]
  },
  {
   "cell_type": "markdown",
   "metadata": {},
   "source": [
    "# The Audience\n",
    "The audience are expatriates, rich and the super rich class, as this particular area of Lagos, Victoria Island, has a tone of them"
   ]
  },
  {
   "cell_type": "markdown",
   "metadata": {},
   "source": [
    "# Why they would care\n",
    "Most of this classes of people shuffle between modern cities and Lagos very often, and I have  heard in most cases how they need a central coffess shop to unwind. "
   ]
  },
  {
   "cell_type": "markdown",
   "metadata": {},
   "source": [
    "# Methodology"
   ]
  },
  {
   "cell_type": "markdown",
   "metadata": {},
   "source": [
    "This methodology session decribes how the data was collected, the procedure for data collection.\n",
    "Data was collected through the FourSquare API; for the city of New York and also the City of Lagos, Nigeria. The data is used to compare and contrast the dynamics of the two cities and also profer solution with regards to how a succeful coffee shop can be established, which is accessible by everyone despite the unredictable and hectic traffic situaion that is common with the city.\n",
    "\n",
    "I shall be describing the data with scatter plots: Looking at the concentration of firms, residential areas vis-a-vis road network in both cities. An historgram is used to compare and contrast the kinds of companies that around the vicities, salary levels etc. This will also be used to recommend price.\n",
    "\n",
    "The inferential statistics that I performed was a multiple regression. Independent variables include income, type of companies and road network against coffee shop. while for the city of Lagos, I used income and type of company against the few coffee shops available\n",
    "\n",
    "For new york, their was a linear regression while for Lagos, their was a negative linear regression.\n",
    "\n",
    "I used the K-means formula to get my result"
   ]
  },
  {
   "cell_type": "markdown",
   "metadata": {},
   "source": [
    "# Result"
   ]
  },
  {
   "cell_type": "markdown",
   "metadata": {},
   "source": [
    "The results of this study shows that for a coffee shop to be established and become succesful, price is very important and their should be varieties of tastes for coffee drink that will be sold. New york has different coffee shops having different varies like ice cream kind of... that is not noticeable in Lagos as many shops have just a single line of drink"
   ]
  },
  {
   "cell_type": "markdown",
   "metadata": {},
   "source": [
    "# Recommendations\n",
    "\n",
    "- Varieties of Cofee drinks\n",
    "- Price should be considerable affordable\n",
    "- Shop should be located somewhere close to the express roads and not in the inner cities\n",
    "\n"
   ]
  },
  {
   "cell_type": "markdown",
   "metadata": {},
   "source": [
    "# Conclusion\n",
    "Lagos is a very interesting city, however, a clue or two can be taken to improve business success. Business owners should try as much as possible to tailor their needs to the tastes of the people living there. "
   ]
  },
  {
   "cell_type": "code",
   "execution_count": null,
   "metadata": {},
   "outputs": [],
   "source": []
  }
 ],
 "metadata": {
  "kernelspec": {
   "display_name": "Python 3.5",
   "language": "python",
   "name": "python3"
  },
  "language_info": {
   "codemirror_mode": {
    "name": "ipython",
    "version": 3
   },
   "file_extension": ".py",
   "mimetype": "text/x-python",
   "name": "python",
   "nbconvert_exporter": "python",
   "pygments_lexer": "ipython3",
   "version": "3.5.5"
  }
 },
 "nbformat": 4,
 "nbformat_minor": 1
}
