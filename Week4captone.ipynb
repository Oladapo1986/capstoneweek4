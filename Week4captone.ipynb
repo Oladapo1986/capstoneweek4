{
 "cells": [
  {
   "cell_type": "markdown",
   "metadata": {
    "collapsed": true
   },
   "source": [
    "# Introduction\n",
    "Locating a profitable coffee shop in Lagos taking a clue from New-York City.\n",
    "Lagos is one of the largest cities in Africa and the econmic hub of Nigeria. With a population of more than 20 million people,\n",
    "Lagos is seen to be an important location when starting a business. One of the reason is the availability of people who are \n",
    "more than ready to buy the products you offer them. But there exist some challenges which might inhibit the succesful esblishment of a business enterprise, in particular a food restaurant. A problem is the issue of traffic. It is rated one of the worse place for motorists and then bad road network which has hindered smooth running of businesses and even untimely clsure of businesses. While some businesses trive, it is partinent to understand that they trive asa result of the prior research conducted to make room for the success of the business. \n",
    "I shall be using new-york city to use as a learning point due to its similarity in terms of traffic and yet there are a lot of coffee shops that are successful.\n"
   ]
  },
  {
   "cell_type": "markdown",
   "metadata": {},
   "source": [
    "# The Audience\n",
    "The audience are expatriates, rich and the super rich class, as this particular area of Lagos, Victoria Island, has a tone of them"
   ]
  },
  {
   "cell_type": "markdown",
   "metadata": {},
   "source": [
    "# Why they would care\n",
    "Most of this classes of people shuffle between modern cities and Lagos very often, and I have  heard in most cases how they need a central coffess shop to unwind. "
   ]
  },
  {
   "cell_type": "code",
   "execution_count": null,
   "metadata": {},
   "outputs": [],
   "source": []
  }
 ],
 "metadata": {
  "kernelspec": {
   "display_name": "Python 3.5",
   "language": "python",
   "name": "python3"
  },
  "language_info": {
   "codemirror_mode": {
    "name": "ipython",
    "version": 3
   },
   "file_extension": ".py",
   "mimetype": "text/x-python",
   "name": "python",
   "nbconvert_exporter": "python",
   "pygments_lexer": "ipython3",
   "version": "3.5.5"
  }
 },
 "nbformat": 4,
 "nbformat_minor": 1
}
