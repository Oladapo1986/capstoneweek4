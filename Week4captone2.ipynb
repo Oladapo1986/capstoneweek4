{
 "cells": [
  {
   "cell_type": "markdown",
   "metadata": {
    "collapsed": true
   },
   "source": [
    "# Describing the data\n",
    "I will be using firstsqaure location data - for Lagos and Newyork. I will be looking out for the number of coffee shops in relation to the density of population residing in a given area as well as commercial business areas. I will be comparing this with Lagos. I will compare the dynamics of the two cities and then will be able to make valid judgements from the two datasets."
   ]
  },
  {
   "cell_type": "markdown",
   "metadata": {},
   "source": [
    "# Sample code to extract data from New York\n"
   ]
  },
  {
   "cell_type": "markdown",
   "metadata": {},
   "source": [
    "; North End Ave\", \"lat\": 40.71525696471578, \"lng\": -74.01482820510864, \"distance\": 2366, \"postalCode\": \"10282\", \"cc\": \"US\", \"city\": \"New York\", \"state\": \"NY\", \"country\": \"United States\", \"formattedAddress\": [ \"215 Murray St (btwn West St & North End Ave)\", \"New York, NY 10282\", \"United States, \"distance\": 2150, \"postalCode\": \"10007\", \"cc\": \"US\", \"neighborhood\": \"Tribeca\", \"city\": \"New York\", \"state\": \"NY\", \"country\": \"United States\", \"formattedAddress\": [ \"270 Greenwich Street (at Warren St)\", \"New York, NY 10007\", \"United States\" ] }, \"categories\": [ { \"id\": \"4bf58dd8d48988d118951735\", \"name\": 40.713203629795636, \"lng\": -74.01561859633297 } ], \"distance\": 2507, \"postalCode\": \"10281\", \"cc\": \"US\", \"city\": \"New York\", \"state\": \"NY\", \"country\": \"United.\n",
    "                                                            "
   ]
  },
  {
   "cell_type": "code",
   "execution_count": null,
   "metadata": {},
   "outputs": [],
   "source": []
  }
 ],
 "metadata": {
  "kernelspec": {
   "display_name": "Python 3.5",
   "language": "python",
   "name": "python3"
  },
  "language_info": {
   "codemirror_mode": {
    "name": "ipython",
    "version": 3
   },
   "file_extension": ".py",
   "mimetype": "text/x-python",
   "name": "python",
   "nbconvert_exporter": "python",
   "pygments_lexer": "ipython3",
   "version": "3.5.5"
  }
 },
 "nbformat": 4,
 "nbformat_minor": 1
}
